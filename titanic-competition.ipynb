{
 "cells": [
  {
   "cell_type": "markdown",
   "execution_count": null,
   "metadata": {},
   "source": [
    "![titanic](https://live.mrf.io/statics/i/ps/www.ecestaticos.com/imagestatic/clipping/0e4/7ce/0e47cec13bad958c0969e65495fdf2b0/como-fueron-los-ultimos-momentos-en-el-titanic-segun-la-carta-de-un-superviviente.jpg?mtime=1579565836)\n",
    "# Titanic Data Project "
   ]
  },
  {
   "cell_type": "markdown",
   "execution_count": null,
   "metadata": {},
   "source": [
    "## Loading the data\n",
    "\n",
    "The first thing that we need to do is load the data. The data is split into training and test data. In the case of the test data there is no \"Survived\" variable. We will use our model and the parameter values from the test data to make predictions of whether the people in the test set have survived "
   ]
  },
  {
   "cell_type": "code",
   "execution_count": 1,
   "metadata": {
    "_cell_guid": "b1076dfc-b9ad-4769-8c92-a6c4dae69d19",
    "_uuid": "8f2839f25d086af736a60e9eeb907d3b93b6e0e5"
   },
   "outputs": [
    {
     "name": "stdout",
     "output_type": "stream",
     "text": [
      "/kaggle/input/titanic/train.csv\n",
      "/kaggle/input/titanic/gender_submission.csv\n",
      "/kaggle/input/titanic/test.csv\n"
     ]
    }
   ],
   "source": [
    "# This Python 3 environment comes with many helpful analytics libraries installed\n",
    "# It is defined by the kaggle/python docker image: https://github.com/kaggle/docker-python\n",
    "# For example, here's several helpful packages to load in \n",
    "\n",
    "import numpy as np # linear algebra\n",
    "import pandas as pd # data processing, CSV file I/O (e.g. pd.read_csv)\n",
    "import matplotlib as plt\n",
    "import warnings\n",
    "warnings.filterwarnings('ignore')\n",
    "\n",
    "# Random Seed \n",
    "np.random.seed(31415)\n",
    "\n",
    "# Input data files are available in the \"../input/\" directory.\n",
    "# For example, running this (by clicking run or pressing Shift+Enter) will list all files under the input directory\n",
    "\n",
    "import os\n",
    "for dirname, _, filenames in os.walk('/kaggle/input'):\n",
    "    for filename in filenames:\n",
    "        print(os.path.join(dirname, filename))\n",
    "\n",
    "# Any results you write to the current directory are saved as output."
   ]
  },
  {
   "cell_type": "code",
   "execution_count": 2,
   "metadata": {
    "_cell_guid": "79c7e3d0-c299-4dcb-8224-4455121ee9b0",
    "_uuid": "d629ff2d2480ee46fbb7e2d37f6b5fab8052498a"
   },
   "outputs": [
    {
     "data": {
      "text/html": [
       "<div>\n",
       "<style scoped>\n",
       "    .dataframe tbody tr th:only-of-type {\n",
       "        vertical-align: middle;\n",
       "    }\n",
       "\n",
       "    .dataframe tbody tr th {\n",
       "        vertical-align: top;\n",
       "    }\n",
       "\n",
       "    .dataframe thead th {\n",
       "        text-align: right;\n",
       "    }\n",
       "</style>\n",
       "<table border=\"1\" class=\"dataframe\">\n",
       "  <thead>\n",
       "    <tr style=\"text-align: right;\">\n",
       "      <th></th>\n",
       "      <th>PassengerId</th>\n",
       "      <th>Survived</th>\n",
       "      <th>Pclass</th>\n",
       "      <th>Name</th>\n",
       "      <th>Sex</th>\n",
       "      <th>Age</th>\n",
       "      <th>SibSp</th>\n",
       "      <th>Parch</th>\n",
       "      <th>Ticket</th>\n",
       "      <th>Fare</th>\n",
       "      <th>Cabin</th>\n",
       "      <th>Embarked</th>\n",
       "    </tr>\n",
       "  </thead>\n",
       "  <tbody>\n",
       "    <tr>\n",
       "      <th>0</th>\n",
       "      <td>1</td>\n",
       "      <td>0</td>\n",
       "      <td>3</td>\n",
       "      <td>Braund, Mr. Owen Harris</td>\n",
       "      <td>male</td>\n",
       "      <td>22.0</td>\n",
       "      <td>1</td>\n",
       "      <td>0</td>\n",
       "      <td>A/5 21171</td>\n",
       "      <td>7.2500</td>\n",
       "      <td>NaN</td>\n",
       "      <td>S</td>\n",
       "    </tr>\n",
       "    <tr>\n",
       "      <th>1</th>\n",
       "      <td>2</td>\n",
       "      <td>1</td>\n",
       "      <td>1</td>\n",
       "      <td>Cumings, Mrs. John Bradley (Florence Briggs Th...</td>\n",
       "      <td>female</td>\n",
       "      <td>38.0</td>\n",
       "      <td>1</td>\n",
       "      <td>0</td>\n",
       "      <td>PC 17599</td>\n",
       "      <td>71.2833</td>\n",
       "      <td>C85</td>\n",
       "      <td>C</td>\n",
       "    </tr>\n",
       "    <tr>\n",
       "      <th>2</th>\n",
       "      <td>3</td>\n",
       "      <td>1</td>\n",
       "      <td>3</td>\n",
       "      <td>Heikkinen, Miss. Laina</td>\n",
       "      <td>female</td>\n",
       "      <td>26.0</td>\n",
       "      <td>0</td>\n",
       "      <td>0</td>\n",
       "      <td>STON/O2. 3101282</td>\n",
       "      <td>7.9250</td>\n",
       "      <td>NaN</td>\n",
       "      <td>S</td>\n",
       "    </tr>\n",
       "    <tr>\n",
       "      <th>3</th>\n",
       "      <td>4</td>\n",
       "      <td>1</td>\n",
       "      <td>1</td>\n",
       "      <td>Futrelle, Mrs. Jacques Heath (Lily May Peel)</td>\n",
       "      <td>female</td>\n",
       "      <td>35.0</td>\n",
       "      <td>1</td>\n",
       "      <td>0</td>\n",
       "      <td>113803</td>\n",
       "      <td>53.1000</td>\n",
       "      <td>C123</td>\n",
       "      <td>S</td>\n",
       "    </tr>\n",
       "    <tr>\n",
       "      <th>4</th>\n",
       "      <td>5</td>\n",
       "      <td>0</td>\n",
       "      <td>3</td>\n",
       "      <td>Allen, Mr. William Henry</td>\n",
       "      <td>male</td>\n",
       "      <td>35.0</td>\n",
       "      <td>0</td>\n",
       "      <td>0</td>\n",
       "      <td>373450</td>\n",
       "      <td>8.0500</td>\n",
       "      <td>NaN</td>\n",
       "      <td>S</td>\n",
       "    </tr>\n",
       "  </tbody>\n",
       "</table>\n",
       "</div>"
      ],
      "text/plain": [
       "   PassengerId  Survived  Pclass  \\\n",
       "0            1         0       3   \n",
       "1            2         1       1   \n",
       "2            3         1       3   \n",
       "3            4         1       1   \n",
       "4            5         0       3   \n",
       "\n",
       "                                                Name     Sex   Age  SibSp  \\\n",
       "0                            Braund, Mr. Owen Harris    male  22.0      1   \n",
       "1  Cumings, Mrs. John Bradley (Florence Briggs Th...  female  38.0      1   \n",
       "2                             Heikkinen, Miss. Laina  female  26.0      0   \n",
       "3       Futrelle, Mrs. Jacques Heath (Lily May Peel)  female  35.0      1   \n",
       "4                           Allen, Mr. William Henry    male  35.0      0   \n",
       "\n",
       "   Parch            Ticket     Fare Cabin Embarked  \n",
       "0      0         A/5 21171   7.2500   NaN        S  \n",
       "1      0          PC 17599  71.2833   C85        C  \n",
       "2      0  STON/O2. 3101282   7.9250   NaN        S  \n",
       "3      0            113803  53.1000  C123        S  \n",
       "4      0            373450   8.0500   NaN        S  "
      ]
     },
     "execution_count": 2,
     "metadata": {},
     "output_type": "execute_result"
    }
   ],
   "source": [
    "train_data_raw = pd.read_csv(\"/kaggle/input/titanic/train.csv\")\n",
    "train_data_raw.head()"
   ]
  },
  {
   "cell_type": "code",
   "execution_count": 3,
   "metadata": {},
   "outputs": [],
   "source": [
    "test_data_raw = pd.read_csv(\"/kaggle/input/titanic/test.csv\")"
   ]
  },
  {
   "cell_type": "markdown",
   "execution_count": null,
   "metadata": {},
   "source": [
    "# Exploring the data\n",
    "\n",
    "### General view of data sets "
   ]
  },
  {
   "cell_type": "markdown",
   "execution_count": null,
   "metadata": {},
   "source": [
    "Let's take a look at the number and type of each variable in the training data. "
   ]
  },
  {
   "cell_type": "code",
   "execution_count": 4,
   "metadata": {},
   "outputs": [
    {
     "name": "stdout",
     "output_type": "stream",
     "text": [
      "<class 'pandas.core.frame.DataFrame'>\n",
      "RangeIndex: 891 entries, 0 to 890\n",
      "Data columns (total 12 columns):\n",
      "PassengerId    891 non-null int64\n",
      "Survived       891 non-null int64\n",
      "Pclass         891 non-null int64\n",
      "Name           891 non-null object\n",
      "Sex            891 non-null object\n",
      "Age            714 non-null float64\n",
      "SibSp          891 non-null int64\n",
      "Parch          891 non-null int64\n",
      "Ticket         891 non-null object\n",
      "Fare           891 non-null float64\n",
      "Cabin          204 non-null object\n",
      "Embarked       889 non-null object\n",
      "dtypes: float64(2), int64(5), object(5)\n",
      "memory usage: 83.7+ KB\n"
     ]
    }
   ],
   "source": [
    "train_data_raw.info()"
   ]
  },
  {
   "cell_type": "markdown",
   "execution_count": null,
   "metadata": {},
   "source": [
    "We can see that there are some missing values in the variables Age,Cabin and a few missing in Embarked. It will be worthwhile taking a closer look at these variabe to investigate how it will be best to transform the data before training a model with the data. "
   ]
  },
  {
   "cell_type": "code",
   "execution_count": 5,
   "metadata": {},
   "outputs": [
    {
     "data": {
      "text/html": [
       "<div>\n",
       "<style scoped>\n",
       "    .dataframe tbody tr th:only-of-type {\n",
       "        vertical-align: middle;\n",
       "    }\n",
       "\n",
       "    .dataframe tbody tr th {\n",
       "        vertical-align: top;\n",
       "    }\n",
       "\n",
       "    .dataframe thead th {\n",
       "        text-align: right;\n",
       "    }\n",
       "</style>\n",
       "<table border=\"1\" class=\"dataframe\">\n",
       "  <thead>\n",
       "    <tr style=\"text-align: right;\">\n",
       "      <th></th>\n",
       "      <th>PassengerId</th>\n",
       "      <th>Survived</th>\n",
       "      <th>Pclass</th>\n",
       "      <th>Age</th>\n",
       "      <th>SibSp</th>\n",
       "      <th>Parch</th>\n",
       "      <th>Fare</th>\n",
       "    </tr>\n",
       "  </thead>\n",
       "  <tbody>\n",
       "    <tr>\n",
       "      <th>count</th>\n",
       "      <td>891.000000</td>\n",
       "      <td>891.000000</td>\n",
       "      <td>891.000000</td>\n",
       "      <td>714.000000</td>\n",
       "      <td>891.000000</td>\n",
       "      <td>891.000000</td>\n",
       "      <td>891.000000</td>\n",
       "    </tr>\n",
       "    <tr>\n",
       "      <th>mean</th>\n",
       "      <td>446.000000</td>\n",
       "      <td>0.383838</td>\n",
       "      <td>2.308642</td>\n",
       "      <td>29.699118</td>\n",
       "      <td>0.523008</td>\n",
       "      <td>0.381594</td>\n",
       "      <td>32.204208</td>\n",
       "    </tr>\n",
       "    <tr>\n",
       "      <th>std</th>\n",
       "      <td>257.353842</td>\n",
       "      <td>0.486592</td>\n",
       "      <td>0.836071</td>\n",
       "      <td>14.526497</td>\n",
       "      <td>1.102743</td>\n",
       "      <td>0.806057</td>\n",
       "      <td>49.693429</td>\n",
       "    </tr>\n",
       "    <tr>\n",
       "      <th>min</th>\n",
       "      <td>1.000000</td>\n",
       "      <td>0.000000</td>\n",
       "      <td>1.000000</td>\n",
       "      <td>0.420000</td>\n",
       "      <td>0.000000</td>\n",
       "      <td>0.000000</td>\n",
       "      <td>0.000000</td>\n",
       "    </tr>\n",
       "    <tr>\n",
       "      <th>25%</th>\n",
       "      <td>223.500000</td>\n",
       "      <td>0.000000</td>\n",
       "      <td>2.000000</td>\n",
       "      <td>20.125000</td>\n",
       "      <td>0.000000</td>\n",
       "      <td>0.000000</td>\n",
       "      <td>7.910400</td>\n",
       "    </tr>\n",
       "    <tr>\n",
       "      <th>50%</th>\n",
       "      <td>446.000000</td>\n",
       "      <td>0.000000</td>\n",
       "      <td>3.000000</td>\n",
       "      <td>28.000000</td>\n",
       "      <td>0.000000</td>\n",
       "      <td>0.000000</td>\n",
       "      <td>14.454200</td>\n",
       "    </tr>\n",
       "    <tr>\n",
       "      <th>75%</th>\n",
       "      <td>668.500000</td>\n",
       "      <td>1.000000</td>\n",
       "      <td>3.000000</td>\n",
       "      <td>38.000000</td>\n",
       "      <td>1.000000</td>\n",
       "      <td>0.000000</td>\n",
       "      <td>31.000000</td>\n",
       "    </tr>\n",
       "    <tr>\n",
       "      <th>max</th>\n",
       "      <td>891.000000</td>\n",
       "      <td>1.000000</td>\n",
       "      <td>3.000000</td>\n",
       "      <td>80.000000</td>\n",
       "      <td>8.000000</td>\n",
       "      <td>6.000000</td>\n",
       "      <td>512.329200</td>\n",
       "    </tr>\n",
       "  </tbody>\n",
       "</table>\n",
       "</div>"
      ],
      "text/plain": [
       "       PassengerId    Survived      Pclass         Age       SibSp  \\\n",
       "count   891.000000  891.000000  891.000000  714.000000  891.000000   \n",
       "mean    446.000000    0.383838    2.308642   29.699118    0.523008   \n",
       "std     257.353842    0.486592    0.836071   14.526497    1.102743   \n",
       "min       1.000000    0.000000    1.000000    0.420000    0.000000   \n",
       "25%     223.500000    0.000000    2.000000   20.125000    0.000000   \n",
       "50%     446.000000    0.000000    3.000000   28.000000    0.000000   \n",
       "75%     668.500000    1.000000    3.000000   38.000000    1.000000   \n",
       "max     891.000000    1.000000    3.000000   80.000000    8.000000   \n",
       "\n",
       "            Parch        Fare  \n",
       "count  891.000000  891.000000  \n",
       "mean     0.381594   32.204208  \n",
       "std      0.806057   49.693429  \n",
       "min      0.000000    0.000000  \n",
       "25%      0.000000    7.910400  \n",
       "50%      0.000000   14.454200  \n",
       "75%      0.000000   31.000000  \n",
       "max      6.000000  512.329200  "
      ]
     },
     "execution_count": 5,
     "metadata": {},
     "output_type": "execute_result"
    }
   ],
   "source": [
    "train_data_raw.describe()"
   ]
  },
  {
   "cell_type": "code",
   "execution_count": 6,
   "metadata": {},
   "outputs": [
    {
     "data": {
      "text/html": [
       "<div>\n",
       "<style scoped>\n",
       "    .dataframe tbody tr th:only-of-type {\n",
       "        vertical-align: middle;\n",
       "    }\n",
       "\n",
       "    .dataframe tbody tr th {\n",
       "        vertical-align: top;\n",
       "    }\n",
       "\n",
       "    .dataframe thead th {\n",
       "        text-align: right;\n",
       "    }\n",
       "</style>\n",
       "<table border=\"1\" class=\"dataframe\">\n",
       "  <thead>\n",
       "    <tr style=\"text-align: right;\">\n",
       "      <th></th>\n",
       "      <th>Name</th>\n",
       "      <th>Sex</th>\n",
       "      <th>Ticket</th>\n",
       "      <th>Cabin</th>\n",
       "      <th>Embarked</th>\n",
       "    </tr>\n",
       "  </thead>\n",
       "  <tbody>\n",
       "    <tr>\n",
       "      <th>count</th>\n",
       "      <td>891</td>\n",
       "      <td>891</td>\n",
       "      <td>891</td>\n",
       "      <td>204</td>\n",
       "      <td>889</td>\n",
       "    </tr>\n",
       "    <tr>\n",
       "      <th>unique</th>\n",
       "      <td>891</td>\n",
       "      <td>2</td>\n",
       "      <td>681</td>\n",
       "      <td>147</td>\n",
       "      <td>3</td>\n",
       "    </tr>\n",
       "    <tr>\n",
       "      <th>top</th>\n",
       "      <td>Persson, Mr. Ernst Ulrik</td>\n",
       "      <td>male</td>\n",
       "      <td>CA. 2343</td>\n",
       "      <td>G6</td>\n",
       "      <td>S</td>\n",
       "    </tr>\n",
       "    <tr>\n",
       "      <th>freq</th>\n",
       "      <td>1</td>\n",
       "      <td>577</td>\n",
       "      <td>7</td>\n",
       "      <td>4</td>\n",
       "      <td>644</td>\n",
       "    </tr>\n",
       "  </tbody>\n",
       "</table>\n",
       "</div>"
      ],
      "text/plain": [
       "                            Name   Sex    Ticket Cabin Embarked\n",
       "count                        891   891       891   204      889\n",
       "unique                       891     2       681   147        3\n",
       "top     Persson, Mr. Ernst Ulrik  male  CA. 2343    G6        S\n",
       "freq                           1   577         7     4      644"
      ]
     },
     "execution_count": 6,
     "metadata": {},
     "output_type": "execute_result"
    }
   ],
   "source": [
    "train_data_raw.describe(include='O')"
   ]
  },
  {
   "cell_type": "code",
   "execution_count": 7,
   "metadata": {},
   "outputs": [
    {
     "name": "stdout",
     "output_type": "stream",
     "text": [
      "<class 'pandas.core.frame.DataFrame'>\n",
      "RangeIndex: 418 entries, 0 to 417\n",
      "Data columns (total 11 columns):\n",
      "PassengerId    418 non-null int64\n",
      "Pclass         418 non-null int64\n",
      "Name           418 non-null object\n",
      "Sex            418 non-null object\n",
      "Age            332 non-null float64\n",
      "SibSp          418 non-null int64\n",
      "Parch          418 non-null int64\n",
      "Ticket         418 non-null object\n",
      "Fare           417 non-null float64\n",
      "Cabin          91 non-null object\n",
      "Embarked       418 non-null object\n",
      "dtypes: float64(2), int64(4), object(5)\n",
      "memory usage: 36.0+ KB\n"
     ]
    }
   ],
   "source": [
    "test_data_raw.info()"
   ]
  },
  {
   "cell_type": "markdown",
   "execution_count": null,
   "metadata": {},
   "source": [
    "We can also see that in the test data there are missing values in Age, Fare and Cabin. We should therefore apply the transformations to the test data before making predictions on this data. "
   ]
  },
  {
   "cell_type": "markdown",
   "execution_count": null,
   "metadata": {},
   "source": [
    "## Exploring each feature\n",
    "\n",
    "We will now take a look at the possible values of each feature to see what information we can extract from these features and which transformations will be useful. "
   ]
  },
  {
   "cell_type": "code",
   "execution_count": 8,
   "metadata": {},
   "outputs": [],
   "source": [
    "# Function to calculate the column value breakdown \n",
    "\n",
    "def ColumnValueBreakdown(df, column):\n",
    "    values_raw = df[column].value_counts()\n",
    "    values_percent = df[column].value_counts()/len(df[column])\n",
    "    new_df = pd.concat([values_raw,values_percent], axis=1)\n",
    "    new_df.columns = ['Raw', 'Percentage']\n",
    "    print(new_df)\n",
    "    \n",
    "    print('-'*10)\n",
    "    \n",
    "    print(df[[column,'Survived']].groupby(column, as_index=False).mean().sort_values(by='Survived', ascending=False).to_string(index=False))"
   ]
  },
  {
   "cell_type": "markdown",
   "execution_count": null,
   "metadata": {},
   "source": [
    "## **Sex** "
   ]
  },
  {
   "cell_type": "code",
   "execution_count": 9,
   "metadata": {},
   "outputs": [
    {
     "name": "stdout",
     "output_type": "stream",
     "text": [
      "        Raw  Percentage\n",
      "male    577    0.647587\n",
      "female  314    0.352413\n",
      "----------\n",
      "    Sex  Survived\n",
      " female  0.742038\n",
      "   male  0.188908\n"
     ]
    }
   ],
   "source": [
    "ColumnValueBreakdown(train_data_raw,'Sex')"
   ]
  },
  {
   "cell_type": "markdown",
   "execution_count": null,
   "metadata": {},
   "source": [
    "We can see that a much larger proportion of females have survived than men. This is likely to be an important feature when we begin to train our models. "
   ]
  },
  {
   "cell_type": "markdown",
   "execution_count": null,
   "metadata": {},
   "source": [
    "## **Pclass**  "
   ]
  },
  {
   "cell_type": "code",
   "execution_count": 10,
   "metadata": {},
   "outputs": [
    {
     "name": "stdout",
     "output_type": "stream",
     "text": [
      "   Raw  Percentage\n",
      "3  491    0.551066\n",
      "1  216    0.242424\n",
      "2  184    0.206510\n",
      "----------\n",
      " Pclass  Survived\n",
      "      1  0.629630\n",
      "      2  0.472826\n",
      "      3  0.242363\n"
     ]
    }
   ],
   "source": [
    "ColumnValueBreakdown(train_data_raw, 'Pclass')"
   ]
  },
  {
   "cell_type": "code",
   "execution_count": 11,
   "metadata": {},
   "outputs": [
    {
     "data": {
      "text/html": [
       "<div>\n",
       "<style scoped>\n",
       "    .dataframe tbody tr th:only-of-type {\n",
       "        vertical-align: middle;\n",
       "    }\n",
       "\n",
       "    .dataframe tbody tr th {\n",
       "        vertical-align: top;\n",
       "    }\n",
       "\n",
       "    .dataframe thead th {\n",
       "        text-align: right;\n",
       "    }\n",
       "</style>\n",
       "<table border=\"1\" class=\"dataframe\">\n",
       "  <thead>\n",
       "    <tr style=\"text-align: right;\">\n",
       "      <th></th>\n",
       "      <th>Pclass</th>\n",
       "      <th>Survived</th>\n",
       "    </tr>\n",
       "  </thead>\n",
       "  <tbody>\n",
       "    <tr>\n",
       "      <th>0</th>\n",
       "      <td>1</td>\n",
       "      <td>0.629630</td>\n",
       "    </tr>\n",
       "    <tr>\n",
       "      <th>1</th>\n",
       "      <td>2</td>\n",
       "      <td>0.472826</td>\n",
       "    </tr>\n",
       "    <tr>\n",
       "      <th>2</th>\n",
       "      <td>3</td>\n",
       "      <td>0.242363</td>\n",
       "    </tr>\n",
       "  </tbody>\n",
       "</table>\n",
       "</div>"
      ],
      "text/plain": [
       "   Pclass  Survived\n",
       "0       1  0.629630\n",
       "1       2  0.472826\n",
       "2       3  0.242363"
      ]
     },
     "execution_count": 11,
     "metadata": {},
     "output_type": "execute_result"
    }
   ],
   "source": [
    "train_data_raw[['Pclass','Survived']].groupby('Pclass', as_index=False).mean().sort_values(by='Survived', ascending=False)"
   ]
  },
  {
   "cell_type": "markdown",
   "execution_count": null,
   "metadata": {},
   "source": [
    "The variable Pclass is ordinal and determines whether the passenger was in first, second, or third class. There seems to be corrlation between the class of the passenger and the survival rate.   "
   ]
  },
  {
   "cell_type": "markdown",
   "execution_count": null,
   "metadata": {},
   "source": [
    "## **SibSp & Parch ** "
   ]
  },
  {
   "cell_type": "markdown",
   "execution_count": null,
   "metadata": {},
   "source": [
    "These variables represent the number of siblings/spouses onboard (SibSp) and the number of parent/children onboard (Parch) for each passenger. "
   ]
  },
  {
   "cell_type": "code",
   "execution_count": 12,
   "metadata": {},
   "outputs": [
    {
     "name": "stdout",
     "output_type": "stream",
     "text": [
      "   Raw  Percentage\n",
      "0  608    0.682379\n",
      "1  209    0.234568\n",
      "2   28    0.031425\n",
      "4   18    0.020202\n",
      "3   16    0.017957\n",
      "8    7    0.007856\n",
      "5    5    0.005612\n",
      "----------\n",
      " SibSp  Survived\n",
      "     1  0.535885\n",
      "     2  0.464286\n",
      "     0  0.345395\n",
      "     3  0.250000\n",
      "     4  0.166667\n",
      "     5  0.000000\n",
      "     8  0.000000\n"
     ]
    }
   ],
   "source": [
    "ColumnValueBreakdown(train_data_raw, 'SibSp')"
   ]
  },
  {
   "cell_type": "code",
   "execution_count": 13,
   "metadata": {},
   "outputs": [
    {
     "name": "stdout",
     "output_type": "stream",
     "text": [
      "   Raw  Percentage\n",
      "0  678    0.760943\n",
      "1  118    0.132435\n",
      "2   80    0.089787\n",
      "5    5    0.005612\n",
      "3    5    0.005612\n",
      "4    4    0.004489\n",
      "6    1    0.001122\n",
      "----------\n",
      " Parch  Survived\n",
      "     3  0.600000\n",
      "     1  0.550847\n",
      "     2  0.500000\n",
      "     0  0.343658\n",
      "     5  0.200000\n",
      "     4  0.000000\n",
      "     6  0.000000\n"
     ]
    }
   ],
   "source": [
    "ColumnValueBreakdown(train_data_raw, 'Parch')"
   ]
  },
  {
   "cell_type": "markdown",
   "execution_count": null,
   "metadata": {},
   "source": [
    "With SibSp and Parch it appears that most people travelled alone. It can also be seen that the people who travelled with one or two siblings/spouse/children/parents had a higher survival rate than those who travelled alone. It may be worthwhile to create a new feature called isAlone to represent this information."
   ]
  },
  {
   "cell_type": "markdown",
   "execution_count": null,
   "metadata": {},
   "source": [
    "## **Embarked ** "
   ]
  },
  {
   "cell_type": "code",
   "execution_count": 14,
   "metadata": {},
   "outputs": [
    {
     "name": "stdout",
     "output_type": "stream",
     "text": [
      "   Raw  Percentage\n",
      "S  644    0.722783\n",
      "C  168    0.188552\n",
      "Q   77    0.086420\n",
      "----------\n",
      "Embarked  Survived\n",
      "       C  0.553571\n",
      "       Q  0.389610\n",
      "       S  0.336957\n"
     ]
    }
   ],
   "source": [
    "ColumnValueBreakdown(train_data_raw, 'Embarked')"
   ]
  },
  {
   "cell_type": "markdown",
   "execution_count": null,
   "metadata": {},
   "source": [
    "With Embarked, it seems that almost 70% of the people who embarked, did so at Southampton. It also seems that people who embarked at Cherbourg have a higher survival rate although they have a smaller sample size. There are also two missing values in this variable which could be solved by imputting the mode."
   ]
  },
  {
   "cell_type": "code",
   "execution_count": 15,
   "metadata": {},
   "outputs": [
    {
     "data": {
      "text/plain": [
       "0    0.616162\n",
       "1    0.383838\n",
       "Name: Survived, dtype: float64"
      ]
     },
     "execution_count": 15,
     "metadata": {},
     "output_type": "execute_result"
    }
   ],
   "source": [
    "train_data_raw['Survived'].value_counts()/len(train_data_raw['Survived'])"
   ]
  },
  {
   "cell_type": "markdown",
   "execution_count": null,
   "metadata": {},
   "source": [
    "It is also worth noting that the training data has a survival rate of 61.6%. While not a completely balanced dataset this is not too worrying."
   ]
  },
  {
   "cell_type": "markdown",
   "execution_count": null,
   "metadata": {},
   "source": [
    "## ** Remaining Quantitative Variables **\n",
    "\n",
    "The remaining quantitative variables have a large number of distinct values and so it may be more worthwhile analysing them using histograms. In this case I have used a scatter matrix on these features to analyse them. "
   ]
  },
  {
   "cell_type": "code",
   "execution_count": 16,
   "metadata": {},
   "outputs": [
    {
     "name": "stdout",
     "output_type": "stream",
     "text": [
      "No of Age vals:  88\n",
      "No of Fare vals:  248\n"
     ]
    }
   ],
   "source": [
    "print(\"No of Age vals: \", train_data_raw['Age'].nunique())\n",
    "print(\"No of Fare vals: \", train_data_raw['Fare'].nunique())"
   ]
  },
  {
   "cell_type": "code",
   "execution_count": 17,
   "metadata": {},
   "outputs": [
    {
     "data": {
      "image/png": "[encoded data removed]",
      "text/plain": [
       "<Figure size 864x576 with 25 Axes>"
      ]
     },
     "metadata": {
      "needs_background": "light"
     },
     "output_type": "display_data"
    }
   ],
   "source": [
    "from pandas.plotting import scatter_matrix\n",
    "\n",
    "# PassengerId and Survived not interesting for this scatter matrix\n",
    "df = train_data_raw.drop(['PassengerId','Survived'], axis=1)\n",
    "scatter_matrix(df, figsize = (12,8));"
   ]
  },
  {
   "cell_type": "markdown",
   "execution_count": null,
   "metadata": {},
   "source": [
    "## ** Fare **"
   ]
  },
  {
   "cell_type": "code",
   "execution_count": 18,
   "metadata": {},
   "outputs": [
    {
     "data": {
      "image/png": "[encoded data removed]",
      "text/plain": [
       "<Figure size 432x288 with 1 Axes>"
      ]
     },
     "metadata": {
      "needs_background": "light"
     },
     "output_type": "display_data"
    }
   ],
   "source": [
    "train_data_raw[['Fare']].hist();"
   ]
  },
  {
   "cell_type": "markdown",
   "execution_count": null,
   "metadata": {},
   "source": [
    "The largest Fare value seems quite high so let's take a closer look at this variable to see if it appears to be an outlier. It may also be worth tranforming this variable to consider tickets within different price ranges."
   ]
  },
  {
   "cell_type": "markdown",
   "execution_count": null,
   "metadata": {},
   "source": [
    "## ** Age **"
   ]
  },
  {
   "cell_type": "code",
   "execution_count": 19,
   "metadata": {},
   "outputs": [
    {
     "data": {
      "image/png": "[encoded data removed]",
      "text/plain": [
       "<Figure size 432x288 with 1 Axes>"
      ]
     },
     "metadata": {
      "needs_background": "light"
     },
     "output_type": "display_data"
    }
   ],
   "source": [
    "train_data_raw[['Age']].hist();"
   ]
  },
  {
   "cell_type": "markdown",
   "execution_count": null,
   "metadata": {},
   "source": [
    "Age seems to follow a roughly normal distribution at first glance. For this it would be worth investigating whether our models would benefit from transforming the data to Age bands. "
   ]
  },
  {
   "cell_type": "code",
   "execution_count": 20,
   "metadata": {},
   "outputs": [
    {
     "data": {
      "image/png": "[encoded data removed]",
      "text/plain": [
       "<Figure size 432x288 with 2 Axes>"
      ]
     },
     "metadata": {
      "needs_background": "light"
     },
     "output_type": "display_data"
    }
   ],
   "source": [
    "survived = train_data_raw[train_data_raw.Survived == 1]\n",
    "died = train_data_raw[train_data_raw.Survived == 0]\n",
    "\n",
    "fig, axes = plt.pyplot.subplots(1, 2)\n",
    "\n",
    "survived[['Age']].hist(ax=axes[0]);\n",
    "died[['Age']].hist(ax=axes[1]);\n",
    "axes[0].title.set_text('Survived')\n",
    "axes[1].title.set_text('Died')\n",
    "axes[0].set(ylim=(0, 120));\n",
    "axes[1].set(ylim=(0, 120));"
   ]
  },
  {
   "cell_type": "markdown",
   "execution_count": null,
   "metadata": {},
   "source": [
    "## ** Remaining Qualitative Variables **"
   ]
  },
  {
   "cell_type": "markdown",
   "execution_count": null,
   "metadata": {},
   "source": [
    "We are left to analyse the remaining qualitative variables which are Name, PassengerId, ticket number and cabin number. PassengerId and Ticket number do not give us any information and so can be dropped. Cabin number only has 204 instances and therefore it is very incomplete. However, it may be interesting to check see the use of a HasCabin parameter would be useful in our model. \n",
    "\n",
    "Finally, from reading other notebooks on this dataset it seems that although the names are individual names they have a lot of information in the title that is included in the name. I will be taking examples from [this notebook](https://www.kaggle.com/ldfreeman3/a-data-science-framework-to-achieve-99-accuracy) and [this one](https://www.kaggle.com/startupsci/titanic-data-science-solutions) to implement this"
   ]
  },
  {
   "cell_type": "code",
   "execution_count": 21,
   "metadata": {},
   "outputs": [],
   "source": [
    "# Drop PassengerId & Ticket columns\n",
    "train_df = train_data_raw.drop(['PassengerId','Ticket'], axis = 1) "
   ]
  },
  {
   "cell_type": "markdown",
   "execution_count": null,
   "metadata": {},
   "source": [
    "# Data Cleaning "
   ]
  },
  {
   "cell_type": "markdown",
   "execution_count": null,
   "metadata": {},
   "source": [
    "As previously discussed some of the features in the data are missing some values. In this part of the project we will write a function to imput these missing values to clean the data for better modelling results.\n",
    "The raw training set is missing values for the parameters Age, Cabin and Embarked while the raw test set is missing values for Age, Fare and Cabin. \n",
    "\n",
    "As Cabin is missing a lot of values we will not imput values for this parameter as later we will drop the column after transforming the data to a new feature called \"HasCabin\". "
   ]
  },
  {
   "cell_type": "code",
   "execution_count": 22,
   "metadata": {},
   "outputs": [
    {
     "name": "stdout",
     "output_type": "stream",
     "text": [
      "<class 'pandas.core.frame.DataFrame'>\n",
      "RangeIndex: 891 entries, 0 to 890\n",
      "Data columns (total 10 columns):\n",
      "Survived    891 non-null int64\n",
      "Pclass      891 non-null int64\n",
      "Name        891 non-null object\n",
      "Sex         891 non-null object\n",
      "Age         891 non-null float64\n",
      "SibSp       891 non-null int64\n",
      "Parch       891 non-null int64\n",
      "Fare        891 non-null float64\n",
      "Cabin       204 non-null object\n",
      "Embarked    891 non-null object\n",
      "dtypes: float64(2), int64(4), object(4)\n",
      "memory usage: 69.7+ KB\n",
      "----------------------------------------\n",
      "<class 'pandas.core.frame.DataFrame'>\n",
      "RangeIndex: 418 entries, 0 to 417\n",
      "Data columns (total 9 columns):\n",
      "Pclass      418 non-null int64\n",
      "Name        418 non-null object\n",
      "Sex         418 non-null object\n",
      "Age         418 non-null float64\n",
      "SibSp       418 non-null int64\n",
      "Parch       418 non-null int64\n",
      "Fare        418 non-null float64\n",
      "Cabin       91 non-null object\n",
      "Embarked    418 non-null object\n",
      "dtypes: float64(2), int64(3), object(4)\n",
      "memory usage: 29.5+ KB\n"
     ]
    }
   ],
   "source": [
    "# We create this function to do the data imputation on null values.  \n",
    "def DataImputation(df):\n",
    "    #drop unneccessary columns \n",
    "    df = df.drop(['PassengerId','Ticket'], axis = 1) \n",
    "    \n",
    "    # We can see that Age has missing values so we will fix that by imputing the median value for NaN values \n",
    "    median = df['Age'].median()\n",
    "    df['Age'] = df['Age'].fillna(median)\n",
    "\n",
    "    # Embarked is only missing a few values and it is a categorical variable so it will be best to impute these values\n",
    "    # using the mode \n",
    "    mode = df['Embarked'].mode()\n",
    "    df['Embarked'] = df['Embarked'].fillna(mode[0])\n",
    "    \n",
    "    # There is a missing fare in the test set which we can correct by calculating the median \n",
    "    fare_median = df['Fare'].median()\n",
    "    df['Fare'] = df['Fare'].fillna(fare_median)\n",
    "    \n",
    "    return df \n",
    "\n",
    "train_df = DataImputation(train_data_raw)\n",
    "test_df = DataImputation(test_data_raw)\n",
    "\n",
    "train_df.info()\n",
    "print(\"-\" * 40)\n",
    "test_df.info()\n"
   ]
  },
  {
   "cell_type": "markdown",
   "execution_count": null,
   "metadata": {},
   "source": [
    "# Feature Engineering "
   ]
  },
  {
   "cell_type": "markdown",
   "execution_count": null,
   "metadata": {},
   "source": [
    "As we can see we now have completed the imputation of missing values (apart from Cabin) so we can now begin feature engineering to create some useful features we can use to do our modelling. \n",
    "\n",
    "The features we will create will be: \n",
    "* HasCabin - Whether a passenger has a cabin \n",
    "* IsAlone - Whether a passenger is travelling alone \n",
    "* NumFamily - Number of Family Members\n",
    "* Title - Categorical variable based no the title of the passenger\n",
    "* Age - Age will be converted into ranges \n",
    "* Fare - Will also be converted into ranges"
   ]
  },
  {
   "cell_type": "code",
   "execution_count": 23,
   "metadata": {},
   "outputs": [],
   "source": [
    "# Create HasCabin Feature\n",
    "def GenerateHasCabin(df):\n",
    "    df['HasCabin'] = df['Cabin'].apply(lambda x: 1 if pd.notnull(x) else 0)\n",
    "    \n",
    "\n",
    "# Create IsAlone Feature\n",
    "def GenerateIsAlone(df):\n",
    "    df['IsAlone'] = np.where((df.SibSp == 0) & (df.Parch == 0), 1, 0) \n",
    "\n",
    "# Create NumFamily Feature\n",
    "def GenerateNumFamily(df): \n",
    "    df['NumFamily'] = df['SibSp'] + df['Parch']\n",
    "\n",
    "# Create AgeRange Feature \n",
    "def GenerateAgeRange(df):\n",
    "    df['AgeRange'] = pd.cut(np.floor(df['Age']),4, labels=False)\n",
    "\n",
    "# Create FareRange Feature\n",
    "def GenerateFareRange(df):\n",
    "    df['FareRange'] = pd.qcut(np.floor(df['Fare']),4, labels=False)\n"
   ]
  },
  {
   "cell_type": "code",
   "execution_count": 24,
   "metadata": {},
   "outputs": [
    {
     "name": "stdout",
     "output_type": "stream",
     "text": [
      "Mr              517\n",
      "Miss            182\n",
      "Mrs             125\n",
      "Master           40\n",
      "Dr                7\n",
      "Rev               6\n",
      "Mlle              2\n",
      "Col               2\n",
      "Major             2\n",
      "Lady              1\n",
      "Mme               1\n",
      "Don               1\n",
      "Ms                1\n",
      "the Countess      1\n",
      "Sir               1\n",
      "Jonkheer          1\n",
      "Capt              1\n",
      "Name: Title, dtype: int64\n",
      "------------------------------\n",
      "Mr        240\n",
      "Miss       78\n",
      "Mrs        72\n",
      "Master     21\n",
      "Col         2\n",
      "Rev         2\n",
      "Dona        1\n",
      "Dr          1\n",
      "Ms          1\n",
      "Name: Title, dtype: int64\n"
     ]
    }
   ],
   "source": [
    "train_df['Title']=train_df['Name'].str.split(\", \", expand=True)[1].str.split(\".\", expand=True)[0]\n",
    "test_df['Title']=test_df['Name'].str.split(\", \", expand=True)[1].str.split(\".\", expand=True)[0]\n",
    "print(train_df['Title'].value_counts())\n",
    "print('-'*30)\n",
    "print(test_df['Title'].value_counts())"
   ]
  },
  {
   "cell_type": "markdown",
   "execution_count": null,
   "metadata": {},
   "source": [
    "As we can see there are some titles that are different ways to write the same thing eg. Ms/Miss/Mlle. We will put these titles into one category. We will also put a set of rarer titles into a category called \"Rare\". "
   ]
  },
  {
   "cell_type": "code",
   "execution_count": 25,
   "metadata": {},
   "outputs": [],
   "source": [
    "rare_titles = ['Dr', 'Rev', 'Col','Major', 'Lady', 'Don', 'the Countess', 'Jonkheer', 'Capt', 'Sir','Dona']\n",
    "\n",
    "# Create Title Feature: \n",
    "def GenerateTitleFeature(df):\n",
    "    df['Title']=  df['Name'].str.split(\", \", expand=True)[1].str.split(\".\", expand=True)[0]\n",
    "    df['Title'] = df['Title'].replace(['Mlle','Ms'], 'Miss')\n",
    "    df['Title'] = df['Title'].replace(['Mme','Mrs'], 'Miss')\n",
    "    df['Title'] = df['Title'].replace(rare_titles, 'Rare')\n",
    "    \n"
   ]
  },
  {
   "cell_type": "code",
   "execution_count": 26,
   "metadata": {},
   "outputs": [],
   "source": [
    "def CreateNewFeatures(df):\n",
    "    GenerateHasCabin(df)\n",
    "    GenerateIsAlone(df)\n",
    "    GenerateNumFamily(df)\n",
    "    GenerateAgeRange(df)\n",
    "    GenerateFareRange(df)\n",
    "    GenerateTitleFeature(df)\n",
    "    df = df.drop(['Cabin', 'Name'], axis=1)\n",
    "    return df "
   ]
  },
  {
   "cell_type": "code",
   "execution_count": 27,
   "metadata": {},
   "outputs": [],
   "source": [
    "train_df = CreateNewFeatures(train_df)\n",
    "test_df = CreateNewFeatures(test_df)"
   ]
  },
  {
   "cell_type": "code",
   "execution_count": 28,
   "metadata": {},
   "outputs": [
    {
     "name": "stdout",
     "output_type": "stream",
     "text": [
      "   Raw  Percentage\n",
      "0  687    0.771044\n",
      "1  204    0.228956\n",
      "----------\n",
      " HasCabin  Survived\n",
      "        1  0.666667\n",
      "        0  0.299854\n",
      "------------------------------\n",
      "   Raw  Percentage\n",
      "1  537    0.602694\n",
      "0  354    0.397306\n",
      "----------\n",
      " IsAlone  Survived\n",
      "       0  0.505650\n",
      "       1  0.303538\n",
      "------------------------------\n",
      "    Raw  Percentage\n",
      "0   537    0.602694\n",
      "1   161    0.180696\n",
      "2   102    0.114478\n",
      "3    29    0.032548\n",
      "5    22    0.024691\n",
      "4    15    0.016835\n",
      "6    12    0.013468\n",
      "10    7    0.007856\n",
      "7     6    0.006734\n",
      "----------\n",
      " NumFamily  Survived\n",
      "         3  0.724138\n",
      "         2  0.578431\n",
      "         1  0.552795\n",
      "         6  0.333333\n",
      "         0  0.303538\n",
      "         4  0.200000\n",
      "         5  0.136364\n",
      "         7  0.000000\n",
      "        10  0.000000\n",
      "------------------------------\n",
      "   Raw  Percentage\n",
      "1  563    0.631874\n",
      "0  180    0.202020\n",
      "2  126    0.141414\n",
      "3   22    0.024691\n",
      "----------\n",
      " AgeRange  Survived\n",
      "        0  0.455556\n",
      "        2  0.396825\n",
      "        1  0.364121\n",
      "        3  0.227273\n",
      "------------------------------\n",
      "   Raw  Percentage\n",
      "0  241    0.270483\n",
      "2  223    0.250281\n",
      "1  216    0.242424\n",
      "3  211    0.236813\n",
      "----------\n",
      " FareRange  Survived\n",
      "         3  0.597156\n",
      "         2  0.457399\n",
      "         1  0.287037\n",
      "         0  0.215768\n",
      "------------------------------\n",
      "        Raw  Percentage\n",
      "Mr      517    0.580247\n",
      "Miss    311    0.349046\n",
      "Master   40    0.044893\n",
      "Rare     23    0.025814\n",
      "----------\n",
      "  Title  Survived\n",
      "   Miss  0.739550\n",
      " Master  0.575000\n",
      "   Rare  0.347826\n",
      "     Mr  0.156673\n"
     ]
    }
   ],
   "source": [
    "ColumnValueBreakdown(train_df, 'HasCabin')\n",
    "print('-'*30)\n",
    "ColumnValueBreakdown(train_df, 'IsAlone')\n",
    "print('-'*30)\n",
    "ColumnValueBreakdown(train_df, 'NumFamily')\n",
    "print('-'*30)\n",
    "ColumnValueBreakdown(train_df, 'AgeRange')\n",
    "print('-'*30)\n",
    "ColumnValueBreakdown(train_df, 'FareRange')\n",
    "print('-'*30)\n",
    "ColumnValueBreakdown(train_df, 'Title')"
   ]
  },
  {
   "cell_type": "code",
   "execution_count": 29,
   "metadata": {},
   "outputs": [],
   "source": [
    "from sklearn.preprocessing import LabelEncoder\n",
    "\n",
    "# We convert the string values of Title, Embarked and Sex to numeric labels\n",
    "label = LabelEncoder() \n",
    "train_df['Title'] = label.fit_transform(train_df['Title'])\n",
    "test_df['Title'] = label.transform(test_df['Title'])\n",
    "train_df['Sex'] = label.fit_transform(train_df['Sex'])\n",
    "test_df['Sex'] = label.transform(test_df['Sex'])\n",
    "train_df['Embarked'] = label.fit_transform(train_df['Embarked'])\n",
    "test_df['Embarked'] = label.transform(test_df['Embarked'])\n",
    "\n",
    "\n",
    "\n"
   ]
  },
  {
   "cell_type": "markdown",
   "execution_count": null,
   "metadata": {},
   "source": [
    "From the data we have here it seeems that people who have cabins had a lower survival rate than people who may not have had a cabin. However the data is very incomplete and we have no guarantee that a 0 in the HasCabin feature means that this passenger didn't have a cabin. We can take a closer look later to see how the models perform with this feature. \n",
    "\n",
    "We can also deduce from the training set that people who travelled alone had a lower survival rate than people who travelled with family members.\n",
    "Younger people (<20) have the highest survival rate while older people (60-80) have the lowest. \n",
    "We can also see a relationship between the most expensive fares and high survival rate. \n",
    "Looking at the Title feature we can see that adult men (Mr) had the lowest survival rate while unmarried women (Miss) have the highest survival rate amongst the group. "
   ]
  },
  {
   "cell_type": "markdown",
   "execution_count": null,
   "metadata": {},
   "source": [
    "# Training Models"
   ]
  },
  {
   "cell_type": "markdown",
   "execution_count": null,
   "metadata": {},
   "source": [
    "Now that we have cleaned our data and completed the feature engineering portion of the project we can now begin to train models and make predictions on our test set. \n",
    "\n",
    "The training will be done using cross-validation on the full training set to find the best model. After we select the best model we will try to improve the performance of the model using hyperparameter tuning."
   ]
  },
  {
   "cell_type": "code",
   "execution_count": 30,
   "metadata": {},
   "outputs": [],
   "source": [
    "# Import model selection and metric methods\n",
    "from sklearn.model_selection import ShuffleSplit, cross_validate\n",
    "from sklearn.metrics import accuracy_score, confusion_matrix, roc_auc_score\n",
    "\n",
    "# Import the models that we are going to consider\n",
    "from sklearn.linear_model import LogisticRegressionCV, SGDClassifier\n",
    "from sklearn.svm import SVC, NuSVC, LinearSVC\n",
    "from sklearn.neighbors import KNeighborsClassifier\n",
    "from sklearn.naive_bayes import GaussianNB\n",
    "from sklearn.tree import DecisionTreeClassifier\n",
    "from sklearn.ensemble import BaggingClassifier, AdaBoostClassifier, RandomForestClassifier\n",
    "from xgboost import XGBClassifier \n",
    "\n",
    "classifiers = [LogisticRegressionCV(), SGDClassifier(), SVC(), NuSVC(), LinearSVC(), KNeighborsClassifier(), \n",
    "               GaussianNB(), DecisionTreeClassifier(), BaggingClassifier(), \n",
    "               AdaBoostClassifier(), RandomForestClassifier(), XGBClassifier()]\n",
    "\n",
    "# Separate the training data into X and Y features/response\n",
    "# We have found that AgeRange and Fare Range work better than \n",
    "X_train = train_df.drop(['Survived'], axis=1) \n",
    "Y_train = train_df['Survived']"
   ]
  },
  {
   "cell_type": "code",
   "execution_count": 31,
   "metadata": {},
   "outputs": [
    {
     "data": {
      "text/html": [
       "<div>\n",
       "<style scoped>\n",
       "    .dataframe tbody tr th:only-of-type {\n",
       "        vertical-align: middle;\n",
       "    }\n",
       "\n",
       "    .dataframe tbody tr th {\n",
       "        vertical-align: top;\n",
       "    }\n",
       "\n",
       "    .dataframe thead th {\n",
       "        text-align: right;\n",
       "    }\n",
       "</style>\n",
       "<table border=\"1\" class=\"dataframe\">\n",
       "  <thead>\n",
       "    <tr style=\"text-align: right;\">\n",
       "      <th></th>\n",
       "      <th>Model</th>\n",
       "      <th>Mean Train Accuracy</th>\n",
       "      <th>Mean Test Accuracy</th>\n",
       "    </tr>\n",
       "  </thead>\n",
       "  <tbody>\n",
       "    <tr>\n",
       "      <th>11</th>\n",
       "      <td>XGBClassifier(base_score=0.5, booster='gbtree'...</td>\n",
       "      <td>0.886677</td>\n",
       "      <td>0.835075</td>\n",
       "    </tr>\n",
       "    <tr>\n",
       "      <th>0</th>\n",
       "      <td>LogisticRegressionCV(Cs=10, class_weight=None,...</td>\n",
       "      <td>0.826324</td>\n",
       "      <td>0.826866</td>\n",
       "    </tr>\n",
       "    <tr>\n",
       "      <th>9</th>\n",
       "      <td>AdaBoostClassifier(algorithm='SAMME.R', base_e...</td>\n",
       "      <td>0.846549</td>\n",
       "      <td>0.822388</td>\n",
       "    </tr>\n",
       "    <tr>\n",
       "      <th>10</th>\n",
       "      <td>RandomForestClassifier(bootstrap=True, ccp_alp...</td>\n",
       "      <td>0.987159</td>\n",
       "      <td>0.820522</td>\n",
       "    </tr>\n",
       "    <tr>\n",
       "      <th>8</th>\n",
       "      <td>BaggingClassifier(base_estimator=None, bootstr...</td>\n",
       "      <td>0.970787</td>\n",
       "      <td>0.820149</td>\n",
       "    </tr>\n",
       "    <tr>\n",
       "      <th>3</th>\n",
       "      <td>NuSVC(break_ties=False, cache_size=200, class_...</td>\n",
       "      <td>0.826485</td>\n",
       "      <td>0.806716</td>\n",
       "    </tr>\n",
       "    <tr>\n",
       "      <th>6</th>\n",
       "      <td>GaussianNB(priors=None, var_smoothing=1e-09)</td>\n",
       "      <td>0.801766</td>\n",
       "      <td>0.802239</td>\n",
       "    </tr>\n",
       "    <tr>\n",
       "      <th>7</th>\n",
       "      <td>DecisionTreeClassifier(ccp_alpha=0.0, class_we...</td>\n",
       "      <td>0.987159</td>\n",
       "      <td>0.786567</td>\n",
       "    </tr>\n",
       "    <tr>\n",
       "      <th>4</th>\n",
       "      <td>LinearSVC(C=1.0, class_weight=None, dual=True,...</td>\n",
       "      <td>0.782665</td>\n",
       "      <td>0.769776</td>\n",
       "    </tr>\n",
       "    <tr>\n",
       "      <th>5</th>\n",
       "      <td>KNeighborsClassifier(algorithm='auto', leaf_si...</td>\n",
       "      <td>0.805618</td>\n",
       "      <td>0.735821</td>\n",
       "    </tr>\n",
       "    <tr>\n",
       "      <th>1</th>\n",
       "      <td>SGDClassifier(alpha=0.0001, average=False, cla...</td>\n",
       "      <td>0.693419</td>\n",
       "      <td>0.697388</td>\n",
       "    </tr>\n",
       "    <tr>\n",
       "      <th>2</th>\n",
       "      <td>SVC(C=1.0, break_ties=False, cache_size=200, c...</td>\n",
       "      <td>0.688122</td>\n",
       "      <td>0.684701</td>\n",
       "    </tr>\n",
       "  </tbody>\n",
       "</table>\n",
       "</div>"
      ],
      "text/plain": [
       "                                                Model Mean Train Accuracy  \\\n",
       "11  XGBClassifier(base_score=0.5, booster='gbtree'...            0.886677   \n",
       "0   LogisticRegressionCV(Cs=10, class_weight=None,...            0.826324   \n",
       "9   AdaBoostClassifier(algorithm='SAMME.R', base_e...            0.846549   \n",
       "10  RandomForestClassifier(bootstrap=True, ccp_alp...            0.987159   \n",
       "8   BaggingClassifier(base_estimator=None, bootstr...            0.970787   \n",
       "3   NuSVC(break_ties=False, cache_size=200, class_...            0.826485   \n",
       "6        GaussianNB(priors=None, var_smoothing=1e-09)            0.801766   \n",
       "7   DecisionTreeClassifier(ccp_alpha=0.0, class_we...            0.987159   \n",
       "4   LinearSVC(C=1.0, class_weight=None, dual=True,...            0.782665   \n",
       "5   KNeighborsClassifier(algorithm='auto', leaf_si...            0.805618   \n",
       "1   SGDClassifier(alpha=0.0001, average=False, cla...            0.693419   \n",
       "2   SVC(C=1.0, break_ties=False, cache_size=200, c...            0.688122   \n",
       "\n",
       "   Mean Test Accuracy  \n",
       "11           0.835075  \n",
       "0            0.826866  \n",
       "9            0.822388  \n",
       "10           0.820522  \n",
       "8            0.820149  \n",
       "3            0.806716  \n",
       "6            0.802239  \n",
       "7            0.786567  \n",
       "4            0.769776  \n",
       "5            0.735821  \n",
       "1            0.697388  \n",
       "2            0.684701  "
      ]
     },
     "execution_count": 31,
     "metadata": {},
     "output_type": "execute_result"
    }
   ],
   "source": [
    "# Configure cross validation for models\n",
    "cv = ShuffleSplit(n_splits = 10, test_size = 0.3, random_state = 0)\n",
    "\n",
    "model_results = pd.DataFrame(columns = ['Model', 'Mean Train Accuracy', 'Mean Test Accuracy'])\n",
    "\n",
    "index = 0 \n",
    "for clf in classifiers:\n",
    "    scores = cross_validate(clf, X_train, Y_train, scoring='accuracy', cv=cv, return_train_score=True)\n",
    "    model_results.loc[index,'Model'] = clf\n",
    "    model_results.loc[index,'Mean Train Accuracy'] = scores['train_score'].mean()\n",
    "    model_results.loc[index,'Mean Test Accuracy'] = scores['test_score'].mean()\n",
    "    index +=1\n",
    "    \n",
    "model_results.sort_values(by = ['Mean Test Accuracy'], ascending = False, inplace = True)\n",
    "model_results"
   ]
  },
  {
   "cell_type": "markdown",
   "execution_count": null,
   "metadata": {},
   "source": [
    "If we look at the results we can see that the best performing classifier was XGBoost followed by RandomForest and then LogisticRegression. The SVM performed a worse than the tree based classifiers. I thought that the could be due to the fact that there is quite a large range between the lowest and highest values for Age and Fare. I decided to try to fit the models again after transforming these features"
   ]
  },
  {
   "cell_type": "code",
   "execution_count": 32,
   "metadata": {},
   "outputs": [],
   "source": [
    "from sklearn.preprocessing import MinMaxScaler\n",
    "scaler = MinMaxScaler()\n",
    "\n",
    "columns = ['Age', 'Fare']\n",
    "norm_train = X_train\n",
    "norm_train[columns] = scaler.fit_transform(X_train[columns]) "
   ]
  },
  {
   "cell_type": "markdown",
   "execution_count": null,
   "metadata": {},
   "source": [
    "We also create a test set with the transformed columns "
   ]
  },
  {
   "cell_type": "code",
   "execution_count": 33,
   "metadata": {},
   "outputs": [],
   "source": [
    "columns = ['Age', 'Fare']\n",
    "norm_test = test_df\n",
    "norm_test[columns] = scaler.transform(test_df[columns]) "
   ]
  },
  {
   "cell_type": "markdown",
   "execution_count": null,
   "metadata": {},
   "source": [
    "We will now train the models again with the normalised columns to see if this improves the performance "
   ]
  },
  {
   "cell_type": "code",
   "execution_count": 34,
   "metadata": {},
   "outputs": [
    {
     "data": {
      "text/html": [
       "<div>\n",
       "<style scoped>\n",
       "    .dataframe tbody tr th:only-of-type {\n",
       "        vertical-align: middle;\n",
       "    }\n",
       "\n",
       "    .dataframe tbody tr th {\n",
       "        vertical-align: top;\n",
       "    }\n",
       "\n",
       "    .dataframe thead th {\n",
       "        text-align: right;\n",
       "    }\n",
       "</style>\n",
       "<table border=\"1\" class=\"dataframe\">\n",
       "  <thead>\n",
       "    <tr style=\"text-align: right;\">\n",
       "      <th></th>\n",
       "      <th>Model</th>\n",
       "      <th>Mean Train Accuracy</th>\n",
       "      <th>Mean Test Accuracy</th>\n",
       "    </tr>\n",
       "  </thead>\n",
       "  <tbody>\n",
       "    <tr>\n",
       "      <th>11</th>\n",
       "      <td>XGBClassifier(base_score=0.5, booster='gbtree'...</td>\n",
       "      <td>0.886677</td>\n",
       "      <td>0.835075</td>\n",
       "    </tr>\n",
       "    <tr>\n",
       "      <th>2</th>\n",
       "      <td>SVC(C=1.0, break_ties=False, cache_size=200, c...</td>\n",
       "      <td>0.82825</td>\n",
       "      <td>0.827985</td>\n",
       "    </tr>\n",
       "    <tr>\n",
       "      <th>3</th>\n",
       "      <td>NuSVC(break_ties=False, cache_size=200, class_...</td>\n",
       "      <td>0.826164</td>\n",
       "      <td>0.826866</td>\n",
       "    </tr>\n",
       "    <tr>\n",
       "      <th>5</th>\n",
       "      <td>KNeighborsClassifier(algorithm='auto', leaf_si...</td>\n",
       "      <td>0.859069</td>\n",
       "      <td>0.826493</td>\n",
       "    </tr>\n",
       "    <tr>\n",
       "      <th>4</th>\n",
       "      <td>LinearSVC(C=1.0, class_weight=None, dual=True,...</td>\n",
       "      <td>0.828732</td>\n",
       "      <td>0.826119</td>\n",
       "    </tr>\n",
       "    <tr>\n",
       "      <th>0</th>\n",
       "      <td>LogisticRegressionCV(Cs=10, class_weight=None,...</td>\n",
       "      <td>0.827769</td>\n",
       "      <td>0.823881</td>\n",
       "    </tr>\n",
       "    <tr>\n",
       "      <th>10</th>\n",
       "      <td>RandomForestClassifier(bootstrap=True, ccp_alp...</td>\n",
       "      <td>0.987159</td>\n",
       "      <td>0.823134</td>\n",
       "    </tr>\n",
       "    <tr>\n",
       "      <th>9</th>\n",
       "      <td>AdaBoostClassifier(algorithm='SAMME.R', base_e...</td>\n",
       "      <td>0.846549</td>\n",
       "      <td>0.822388</td>\n",
       "    </tr>\n",
       "    <tr>\n",
       "      <th>8</th>\n",
       "      <td>BaggingClassifier(base_estimator=None, bootstr...</td>\n",
       "      <td>0.969181</td>\n",
       "      <td>0.817164</td>\n",
       "    </tr>\n",
       "    <tr>\n",
       "      <th>6</th>\n",
       "      <td>GaussianNB(priors=None, var_smoothing=1e-09)</td>\n",
       "      <td>0.801766</td>\n",
       "      <td>0.802239</td>\n",
       "    </tr>\n",
       "    <tr>\n",
       "      <th>7</th>\n",
       "      <td>DecisionTreeClassifier(ccp_alpha=0.0, class_we...</td>\n",
       "      <td>0.987159</td>\n",
       "      <td>0.78209</td>\n",
       "    </tr>\n",
       "    <tr>\n",
       "      <th>1</th>\n",
       "      <td>SGDClassifier(alpha=0.0001, average=False, cla...</td>\n",
       "      <td>0.744302</td>\n",
       "      <td>0.752985</td>\n",
       "    </tr>\n",
       "  </tbody>\n",
       "</table>\n",
       "</div>"
      ],
      "text/plain": [
       "                                                Model Mean Train Accuracy  \\\n",
       "11  XGBClassifier(base_score=0.5, booster='gbtree'...            0.886677   \n",
       "2   SVC(C=1.0, break_ties=False, cache_size=200, c...             0.82825   \n",
       "3   NuSVC(break_ties=False, cache_size=200, class_...            0.826164   \n",
       "5   KNeighborsClassifier(algorithm='auto', leaf_si...            0.859069   \n",
       "4   LinearSVC(C=1.0, class_weight=None, dual=True,...            0.828732   \n",
       "0   LogisticRegressionCV(Cs=10, class_weight=None,...            0.827769   \n",
       "10  RandomForestClassifier(bootstrap=True, ccp_alp...            0.987159   \n",
       "9   AdaBoostClassifier(algorithm='SAMME.R', base_e...            0.846549   \n",
       "8   BaggingClassifier(base_estimator=None, bootstr...            0.969181   \n",
       "6        GaussianNB(priors=None, var_smoothing=1e-09)            0.801766   \n",
       "7   DecisionTreeClassifier(ccp_alpha=0.0, class_we...            0.987159   \n",
       "1   SGDClassifier(alpha=0.0001, average=False, cla...            0.744302   \n",
       "\n",
       "   Mean Test Accuracy  \n",
       "11           0.835075  \n",
       "2            0.827985  \n",
       "3            0.826866  \n",
       "5            0.826493  \n",
       "4            0.826119  \n",
       "0            0.823881  \n",
       "10           0.823134  \n",
       "9            0.822388  \n",
       "8            0.817164  \n",
       "6            0.802239  \n",
       "7             0.78209  \n",
       "1            0.752985  "
      ]
     },
     "execution_count": 34,
     "metadata": {},
     "output_type": "execute_result"
    }
   ],
   "source": [
    "model_results_norm = pd.DataFrame(columns = ['Model', 'Mean Train Accuracy', 'Mean Test Accuracy'])\n",
    "\n",
    "index = 0 \n",
    "for clf in classifiers:\n",
    "    scores = cross_validate(clf, norm_train, Y_train, scoring='accuracy', cv=cv, verbose=0, return_train_score=True)\n",
    "    model_results_norm.loc[index,'Model'] = clf\n",
    "    model_results_norm.loc[index,'Mean Train Accuracy'] = scores['train_score'].mean()\n",
    "    model_results_norm.loc[index,'Mean Test Accuracy'] = scores['test_score'].mean()\n",
    "    index +=1\n",
    "    \n",
    "model_results_norm.sort_values(by = ['Mean Test Accuracy'], ascending = False, inplace = True)\n",
    "model_results_norm"
   ]
  },
  {
   "cell_type": "markdown",
   "execution_count": null,
   "metadata": {},
   "source": [
    "We can now see that when we use a MinMaxScaler to standardise the features of Age and Fare the performance of the SVMs improve. While XGBoost continues to be the best classifier we find that the SVM based algorithms perform better than the tree based models.\n",
    "\n",
    "We will now take a subsection of these algorithms and do further analysis through Feature Selection and hyperparameter tuning to try to squeeze the best possible performance from the models. \n",
    "\n",
    "The algorithms we will take a closer look at will be XGBoost, SVC, KNN, Logistic Regression and Random Forest.\n",
    "These are the models that performed best between the two test and also represent different algorithm methods. "
   ]
  },
  {
   "cell_type": "markdown",
   "execution_count": null,
   "metadata": {},
   "source": [
    "# Feature Selection and Hyperparameter Tuning "
   ]
  },
  {
   "cell_type": "code",
   "execution_count": 35,
   "metadata": {},
   "outputs": [],
   "source": [
    "from sklearn.pipeline import Pipeline\n",
    "from sklearn.model_selection import GridSearchCV\n",
    "from sklearn.feature_selection import RFECV\n",
    "\n",
    "best_clfs = [LogisticRegressionCV(), KNeighborsClassifier(), SVC(), RandomForestClassifier(), XGBClassifier()]\n",
    "\n",
    "\n",
    "grid_params = [[{\n",
    "        # LogisticRegressionCV()\n",
    "        'clf__penalty': ['l1'],\n",
    "        'clf__solver': ['liblinear'],\n",
    "        'clf__max_iter': [50, 100, 200, 500],\n",
    "        'clf__random_state': [0]\n",
    "    }, \n",
    "    {\n",
    "        # LogisticRegressionCV()\n",
    "        'clf__penalty': ['l2'],\n",
    "        'clf__solver': ['lbfgs'],\n",
    "        'clf__max_iter': [50, 100, 200, 500],\n",
    "        'clf__random_state': [0]\n",
    "    }],\n",
    "    [{\n",
    "        # KNeighborsClassifier()\n",
    "        'clf__n_neighbors': [3,5,10,20], \n",
    "        'clf__weights': ['uniform', 'distance'],\n",
    "        'clf__algorithm': ['auto', 'ball_tree', 'kd_tree', 'brute']\n",
    "    }],\n",
    "    [{\n",
    "        # SVC()\n",
    "        'clf__C': [0.1,0.5, 1, 1.5],\n",
    "        'clf__kernel': ['linear', 'poly', 'rbf', 'sigmoid'],\n",
    "        'clf__gamma': ['scale', 'auto'],\n",
    "        'clf__random_state': [0]\n",
    "    }],\n",
    "    [{\n",
    "        # RandomForestClassifier()\n",
    "        'clf__n_estimators': [25, 50, 100, 200],\n",
    "        'clf__criterion': ['gini', 'entropy'],\n",
    "        'clf__max_depth': [None, 2,5,10],\n",
    "        'clf__random_state': [0]\n",
    "    }],\n",
    "    [{\n",
    "        # XGBClassifier()\n",
    "        'clf__learning_rate': [.01, .03, .05, .1, .25],\n",
    "        'clf__max_depth': [10,12,14,16, 20],\n",
    "        'clf__n_estimators': [25, 50, 100, 200],\n",
    "        'clf__seed': [0]\n",
    "    }]\n",
    "    \n",
    "]"
   ]
  },
  {
   "cell_type": "markdown",
   "execution_count": null,
   "metadata": {},
   "source": [
    "## Pipeline with RFECV"
   ]
  },
  {
   "cell_type": "code",
   "execution_count": 36,
   "metadata": {},
   "outputs": [
    {
     "data": {
      "text/html": [
       "<div>\n",
       "<style scoped>\n",
       "    .dataframe tbody tr th:only-of-type {\n",
       "        vertical-align: middle;\n",
       "    }\n",
       "\n",
       "    .dataframe tbody tr th {\n",
       "        vertical-align: top;\n",
       "    }\n",
       "\n",
       "    .dataframe thead th {\n",
       "        text-align: right;\n",
       "    }\n",
       "</style>\n",
       "<table border=\"1\" class=\"dataframe\">\n",
       "  <thead>\n",
       "    <tr style=\"text-align: right;\">\n",
       "      <th></th>\n",
       "      <th>Model</th>\n",
       "      <th>Best Params</th>\n",
       "      <th>Mean Train Accuracy</th>\n",
       "      <th>Mean Test Accuracy</th>\n",
       "    </tr>\n",
       "  </thead>\n",
       "  <tbody>\n",
       "    <tr>\n",
       "      <th>3</th>\n",
       "      <td>RandomForestClassifier(bootstrap=True, ccp_alp...</td>\n",
       "      <td>{'clf__criterion': 'entropy', 'clf__max_depth'...</td>\n",
       "      <td>0.942055</td>\n",
       "      <td>0.842537</td>\n",
       "    </tr>\n",
       "    <tr>\n",
       "      <th>4</th>\n",
       "      <td>XGBClassifier(base_score=0.5, booster='gbtree'...</td>\n",
       "      <td>{'clf__learning_rate': 0.03, 'clf__max_depth':...</td>\n",
       "      <td>0.917496</td>\n",
       "      <td>0.838433</td>\n",
       "    </tr>\n",
       "    <tr>\n",
       "      <th>2</th>\n",
       "      <td>SVC(C=1.0, break_ties=False, cache_size=200, c...</td>\n",
       "      <td>{'clf__C': 1, 'clf__gamma': 'auto', 'clf__kern...</td>\n",
       "      <td>0.828892</td>\n",
       "      <td>0.827612</td>\n",
       "    </tr>\n",
       "    <tr>\n",
       "      <th>0</th>\n",
       "      <td>LogisticRegressionCV(Cs=10, class_weight=None,...</td>\n",
       "      <td>{'clf__max_iter': 50, 'clf__penalty': 'l1', 'c...</td>\n",
       "      <td>0.82809</td>\n",
       "      <td>0.823134</td>\n",
       "    </tr>\n",
       "    <tr>\n",
       "      <th>1</th>\n",
       "      <td>KNeighborsClassifier(algorithm='auto', leaf_si...</td>\n",
       "      <td>{'clf__algorithm': 'brute', 'clf__n_neighbors'...</td>\n",
       "      <td>0.831621</td>\n",
       "      <td>0.81903</td>\n",
       "    </tr>\n",
       "  </tbody>\n",
       "</table>\n",
       "</div>"
      ],
      "text/plain": [
       "                                               Model  \\\n",
       "3  RandomForestClassifier(bootstrap=True, ccp_alp...   \n",
       "4  XGBClassifier(base_score=0.5, booster='gbtree'...   \n",
       "2  SVC(C=1.0, break_ties=False, cache_size=200, c...   \n",
       "0  LogisticRegressionCV(Cs=10, class_weight=None,...   \n",
       "1  KNeighborsClassifier(algorithm='auto', leaf_si...   \n",
       "\n",
       "                                         Best Params Mean Train Accuracy  \\\n",
       "3  {'clf__criterion': 'entropy', 'clf__max_depth'...            0.942055   \n",
       "4  {'clf__learning_rate': 0.03, 'clf__max_depth':...            0.917496   \n",
       "2  {'clf__C': 1, 'clf__gamma': 'auto', 'clf__kern...            0.828892   \n",
       "0  {'clf__max_iter': 50, 'clf__penalty': 'l1', 'c...             0.82809   \n",
       "1  {'clf__algorithm': 'brute', 'clf__n_neighbors'...            0.831621   \n",
       "\n",
       "  Mean Test Accuracy  \n",
       "3           0.842537  \n",
       "4           0.838433  \n",
       "2           0.827612  \n",
       "0           0.823134  \n",
       "1            0.81903  "
      ]
     },
     "execution_count": 36,
     "metadata": {},
     "output_type": "execute_result"
    }
   ],
   "source": [
    "results_hyper = pd.DataFrame(columns = ['Model', 'Best Params', 'Mean Train Accuracy', 'Mean Test Accuracy'])\n",
    "\n",
    "index = 0 \n",
    "for clf, grid in zip(best_clfs, grid_params):\n",
    "    pipe = Pipeline([('rfe', RFECV(estimator=SVC(kernel=\"linear\"), step=1, cv=cv, scoring='accuracy')),\n",
    "                    ('clf', clf)])\n",
    "    \n",
    "    gridsearch = GridSearchCV(pipe, grid, scoring = 'accuracy', cv = cv, return_train_score=True)\n",
    "    gridsearch.fit(X_train, Y_train)\n",
    "    best_idx = gridsearch.best_index_\n",
    "    results_hyper.loc[index,'Model'] = clf\n",
    "    results_hyper.loc[index,'Best Params'] = str(gridsearch.best_params_)\n",
    "    results_hyper.loc[index,'Mean Train Accuracy'] = gridsearch.cv_results_['mean_train_score'][best_idx]\n",
    "    results_hyper.loc[index,'Mean Test Accuracy'] = gridsearch.cv_results_['mean_test_score'][best_idx]\n",
    "    index += 1\n",
    "\n",
    "\n",
    "results_hyper.sort_values(by = ['Mean Test Accuracy'], ascending = False, inplace = True)\n",
    "\n",
    "results_hyper"
   ]
  },
  {
   "cell_type": "markdown",
   "execution_count": null,
   "metadata": {},
   "source": [
    "We can see that in this case the best performing model was Random Forest followed by XGBoost. However this could be due to the feature selection method that we have chosen. Now we will investigate by using SelectFromModel to see if we can generate a better performing model "
   ]
  },
  {
   "cell_type": "markdown",
   "execution_count": null,
   "metadata": {},
   "source": [
    "## Gridsearch without Feature Selection  \n",
    "\n",
    "Now finally lets investigate a normal gridsearch but without any feature selection method in the pipline and see how this performs. It could be that the models perform best with all of the features included in the selection process"
   ]
  },
  {
   "cell_type": "code",
   "execution_count": 37,
   "metadata": {},
   "outputs": [
    {
     "data": {
      "text/html": [
       "<div>\n",
       "<style scoped>\n",
       "    .dataframe tbody tr th:only-of-type {\n",
       "        vertical-align: middle;\n",
       "    }\n",
       "\n",
       "    .dataframe tbody tr th {\n",
       "        vertical-align: top;\n",
       "    }\n",
       "\n",
       "    .dataframe thead th {\n",
       "        text-align: right;\n",
       "    }\n",
       "</style>\n",
       "<table border=\"1\" class=\"dataframe\">\n",
       "  <thead>\n",
       "    <tr style=\"text-align: right;\">\n",
       "      <th></th>\n",
       "      <th>Model</th>\n",
       "      <th>Best Params</th>\n",
       "      <th>Mean Train Accuracy</th>\n",
       "      <th>Mean Test Accuracy</th>\n",
       "    </tr>\n",
       "  </thead>\n",
       "  <tbody>\n",
       "    <tr>\n",
       "      <th>1</th>\n",
       "      <td>RandomForestClassifier(bootstrap=True, ccp_alp...</td>\n",
       "      <td>{'clf__criterion': 'entropy', 'clf__max_depth'...</td>\n",
       "      <td>0.917014</td>\n",
       "      <td>0.84291</td>\n",
       "    </tr>\n",
       "    <tr>\n",
       "      <th>2</th>\n",
       "      <td>XGBClassifier(base_score=0.5, booster='gbtree'...</td>\n",
       "      <td>{'clf__learning_rate': 0.05, 'clf__max_depth':...</td>\n",
       "      <td>0.909791</td>\n",
       "      <td>0.840299</td>\n",
       "    </tr>\n",
       "    <tr>\n",
       "      <th>4</th>\n",
       "      <td>SVC(C=1.0, break_ties=False, cache_size=200, c...</td>\n",
       "      <td>{'clf__C': 1, 'clf__gamma': 'scale', 'clf__ker...</td>\n",
       "      <td>0.82825</td>\n",
       "      <td>0.827985</td>\n",
       "    </tr>\n",
       "    <tr>\n",
       "      <th>3</th>\n",
       "      <td>KNeighborsClassifier(algorithm='auto', leaf_si...</td>\n",
       "      <td>{'clf__algorithm': 'auto', 'clf__n_neighbors':...</td>\n",
       "      <td>0.859069</td>\n",
       "      <td>0.826493</td>\n",
       "    </tr>\n",
       "    <tr>\n",
       "      <th>0</th>\n",
       "      <td>LogisticRegressionCV(Cs=10, class_weight=None,...</td>\n",
       "      <td>{'clf__max_iter': 50, 'clf__penalty': 'l1', 'c...</td>\n",
       "      <td>0.827769</td>\n",
       "      <td>0.824254</td>\n",
       "    </tr>\n",
       "  </tbody>\n",
       "</table>\n",
       "</div>"
      ],
      "text/plain": [
       "                                               Model  \\\n",
       "1  RandomForestClassifier(bootstrap=True, ccp_alp...   \n",
       "2  XGBClassifier(base_score=0.5, booster='gbtree'...   \n",
       "4  SVC(C=1.0, break_ties=False, cache_size=200, c...   \n",
       "3  KNeighborsClassifier(algorithm='auto', leaf_si...   \n",
       "0  LogisticRegressionCV(Cs=10, class_weight=None,...   \n",
       "\n",
       "                                         Best Params Mean Train Accuracy  \\\n",
       "1  {'clf__criterion': 'entropy', 'clf__max_depth'...            0.917014   \n",
       "2  {'clf__learning_rate': 0.05, 'clf__max_depth':...            0.909791   \n",
       "4  {'clf__C': 1, 'clf__gamma': 'scale', 'clf__ker...             0.82825   \n",
       "3  {'clf__algorithm': 'auto', 'clf__n_neighbors':...            0.859069   \n",
       "0  {'clf__max_iter': 50, 'clf__penalty': 'l1', 'c...            0.827769   \n",
       "\n",
       "  Mean Test Accuracy  \n",
       "1            0.84291  \n",
       "2           0.840299  \n",
       "4           0.827985  \n",
       "3           0.826493  \n",
       "0           0.824254  "
      ]
     },
     "execution_count": 37,
     "metadata": {},
     "output_type": "execute_result"
    }
   ],
   "source": [
    "clfs = [LogisticRegressionCV(), RandomForestClassifier(), XGBClassifier(),KNeighborsClassifier(), SVC()]\n",
    "\n",
    "grid_params = [[{\n",
    "        # LogisticRegressionCV()\n",
    "        'clf__penalty': ['l1'],\n",
    "        'clf__solver': ['liblinear'],\n",
    "        'clf__max_iter': [50, 100, 200, 500],\n",
    "        'clf__random_state': [0]\n",
    "    }, \n",
    "    {\n",
    "        # LogisticRegressionCV()\n",
    "        'clf__penalty': ['l2'],\n",
    "        'clf__solver': ['lbfgs'],\n",
    "        'clf__max_iter': [50, 100, 200, 500],\n",
    "        'clf__random_state': [0]\n",
    "    }],\n",
    "    [{\n",
    "        # RandomForestClassifier()\n",
    "        'clf__n_estimators': [150, 200, 250, 300],\n",
    "        'clf__criterion': ['gini', 'entropy'],\n",
    "        'clf__max_depth': [8,10, 12, 16],\n",
    "        'clf__random_state': [0]\n",
    "    }],\n",
    "    [{\n",
    "        # XGBClassifier()\n",
    "        'clf__learning_rate': [.01, .03, .05],\n",
    "        'clf__max_depth': [8,9,10,12],\n",
    "        'clf__n_estimators': [25, 35, 50],\n",
    "        'clf__seed': [0]\n",
    "    }],\n",
    "    [{\n",
    "        # KNeighborsClassifier()\n",
    "        'clf__n_neighbors': [3,5,10,20], \n",
    "        'clf__weights': ['uniform', 'distance'],\n",
    "        'clf__algorithm': ['auto', 'ball_tree', 'kd_tree', 'brute']\n",
    "    }],\n",
    "    [{\n",
    "        # SVC()\n",
    "        'clf__C': [0.1,0.5, 1, 1.5],\n",
    "        'clf__kernel': ['linear', 'poly', 'rbf', 'sigmoid'],\n",
    "        'clf__gamma': ['scale', 'auto'],\n",
    "        'clf__random_state': [0]\n",
    "    }]\n",
    "]\n",
    "\n",
    "results_hyper_grid = pd.DataFrame(columns = ['Model', 'Best Params', 'Mean Train Accuracy', 'Mean Test Accuracy'])\n",
    "\n",
    "index = 0 \n",
    "for clf, grid in zip(clfs, grid_params):\n",
    "    pipe = Pipeline([('clf', clf)])\n",
    "    gridsearch = GridSearchCV(pipe, grid, scoring = 'accuracy', cv = cv, return_train_score=True)\n",
    "    gridsearch.fit(X_train, Y_train)\n",
    "    best_idx = gridsearch.best_index_\n",
    "    results_hyper_grid.loc[index,'Model'] = clf\n",
    "    results_hyper_grid.loc[index,'Best Params'] = str(gridsearch.best_params_)\n",
    "    results_hyper_grid.loc[index,'Mean Train Accuracy'] = gridsearch.cv_results_['mean_train_score'][best_idx]\n",
    "    results_hyper_grid.loc[index,'Mean Test Accuracy'] = gridsearch.cv_results_['mean_test_score'][best_idx]\n",
    "    index += 1\n",
    "\n",
    "\n",
    "results_hyper_grid.sort_values(by = ['Mean Test Accuracy'], ascending = False, inplace = True)\n",
    "results_hyper_grid"
   ]
  },
  {
   "cell_type": "code",
   "execution_count": 38,
   "metadata": {},
   "outputs": [
    {
     "name": "stdout",
     "output_type": "stream",
     "text": [
      "{'algorithm': 'auto', 'n_neighbors': 5, 'weights': 'uniform'}\n",
      "0.8590690208667737\n",
      "0.8264925373134329\n"
     ]
    }
   ],
   "source": [
    "grid =  [{\n",
    "        # KNeighborsClassifier()\n",
    "        'n_neighbors': [3,5,10,20], \n",
    "        'weights': ['uniform', 'distance'],\n",
    "        'algorithm': ['auto', 'ball_tree', 'kd_tree', 'brute']\n",
    "    }]\n",
    "\n",
    "gridsearch = GridSearchCV(KNeighborsClassifier(), grid, scoring = 'accuracy', cv = cv, return_train_score=True)\n",
    "gridsearch.fit(norm_train, Y_train)\n",
    "\n",
    "best_idx = gridsearch.best_index_\n",
    "print(str(gridsearch.best_params_))\n",
    "\n",
    "print(gridsearch.cv_results_['mean_train_score'][best_idx])\n",
    "print(gridsearch.cv_results_['mean_test_score'][best_idx])\n"
   ]
  },
  {
   "cell_type": "markdown",
   "execution_count": null,
   "metadata": {},
   "source": [
    "# Predictions  \n",
    "\n",
    "We have now determined the best models and the best performing hyperparameters for each of the models. We will now use these best performing models on the test set and submit our predictions for the competition. "
   ]
  },
  {
   "cell_type": "code",
   "execution_count": 39,
   "metadata": {},
   "outputs": [
    {
     "name": "stdout",
     "output_type": "stream",
     "text": [
      "Test Prediction accuracy:  0.9023569023569024\n"
     ]
    }
   ],
   "source": [
    "from sklearn.metrics import accuracy_score\n",
    "\n",
    "#Train best model - RandomForest\n",
    "best_model = RandomForestClassifier(criterion='entropy', max_depth= 8,n_estimators=150, random_state=0)\n",
    "best_model.fit(X_train,Y_train)\n",
    "pred = best_model.predict(X_train)\n",
    "score = accuracy_score(Y_train, pred)\n",
    "\n",
    "print(\"Test Prediction accuracy: \", score)\n",
    "\n",
    "test_df['Survived'] = best_model.predict(test_df)\n",
    "submit = pd.concat([test_data_raw['PassengerId'], test_df['Survived']], axis=1, sort=False)\n",
    "submit.to_csv(\"submit_random_forest.csv\", index=False)"
   ]
  },
  {
   "cell_type": "markdown",
   "execution_count": null,
   "metadata": {},
   "source": [
    "The Random Forest model corresponds to a prediction accuracy of 77.511% on the test set "
   ]
  },
  {
   "cell_type": "code",
   "execution_count": 40,
   "metadata": {},
   "outputs": [
    {
     "name": "stdout",
     "output_type": "stream",
     "text": [
      "Test Prediction accuracy:  0.9102132435465768\n"
     ]
    }
   ],
   "source": [
    "test_df= test_df.drop('Survived', axis=1)\n",
    "#Train best model - XGBClassifier\n",
    "best_model = XGBClassifier(learning_rate=0.05, max_depth=8, n_estimators= 50, seed=0)\n",
    "best_model.fit(X_train,Y_train)\n",
    "pred = best_model.predict(X_train)\n",
    "score = accuracy_score(Y_train, pred)\n",
    "\n",
    "print(\"Test Prediction accuracy: \", score)\n",
    "\n",
    "test_df['Survived'] = best_model.predict(test_df)\n",
    "submit = pd.concat([test_data_raw['PassengerId'], test_df['Survived']], axis=1, sort=False)\n",
    "submit.to_csv(\"submit_xgb.csv\", index=False)"
   ]
  },
  {
   "cell_type": "markdown",
   "execution_count": null,
   "metadata": {},
   "source": [
    "The XGBoost model corresponds to 0.77033% prediction accuracy. "
   ]
  },
  {
   "cell_type": "code",
   "execution_count": 41,
   "metadata": {},
   "outputs": [
    {
     "name": "stdout",
     "output_type": "stream",
     "text": [
      "Test Prediction accuracy:  0.8294051627384961\n"
     ]
    }
   ],
   "source": [
    "test_df= test_df.drop('Survived', axis=1)\n",
    "#Train best model - SVC\n",
    "best_model = SVC(C= 1, gamma='scale', kernel='rbf', random_state=0)\n",
    "best_model.fit(norm_train,Y_train)\n",
    "pred = best_model.predict(X_train)\n",
    "score = accuracy_score(Y_train, pred)\n",
    "\n",
    "print(\"Test Prediction accuracy: \", score)\n",
    "\n",
    "test_df['Survived'] = best_model.predict(test_df)\n",
    "submit = pd.concat([test_data_raw['PassengerId'], test_df['Survived']], axis=1, sort=False)\n",
    "submit.to_csv(\"submit_svc.csv\", index=False)"
   ]
  },
  {
   "cell_type": "markdown",
   "execution_count": null,
   "metadata": {},
   "source": [
    "\n",
    "The SVC model returned a score of 78.9% accuracy on the test set."
   ]
  },
  {
   "cell_type": "markdown",
   "execution_count": null,
   "metadata": {},
   "source": [
    "# Conclusion\n",
    "\n",
    "We have taken a look at a number of different prediction algorithms and also investigated feature selection. In this case we found that at least for our tranformations of the data better models were trained without feature selection but of course this may not be the case if we did more feature engineering or a different feature selection method. \n",
    "\n",
    "We found a best test score of 78.9% which I don't feel is too bad. However I was surprised by the rather low performance of the XGBoost model given the high training accuracy scored. This suggests some overfitting in the model. Some future work could be to try to improve the model by taking a future look at hyperparameters and possibly the use of regularisation method such as ridge or lasso to prevent overfitting  "
   ]
  }
 ],
 "metadata": {
  "kernelspec": {
   "display_name": "Python 3",
   "language": "python",
   "name": "python3"
  },
  "language_info": {
   "codemirror_mode": {
    "name": "ipython",
    "version": 3
   },
   "file_extension": ".py",
   "mimetype": "text/x-python",
   "name": "python",
   "nbconvert_exporter": "python",
   "pygments_lexer": "ipython3",
   "version": "3.6.6"
  }
 },
 "nbformat": 4,
 "nbformat_minor": 4
}
